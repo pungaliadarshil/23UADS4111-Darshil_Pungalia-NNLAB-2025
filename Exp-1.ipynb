{
 "cells": [
  {
   "cell_type": "code",
   "execution_count": 3,
   "metadata": {},
   "outputs": [],
   "source": [
    "# 1. WAP to implement the Perceptron Learning Algorithm using numpy in Python. Evaluate performance of a single perceptron for NAND and XOR truth tables as input dataset.\n",
    "\n",
    "\n",
    "import numpy as np"
   ]
  },
  {
   "cell_type": "code",
   "execution_count": 4,
   "metadata": {},
   "outputs": [],
   "source": [
    "class Perceptron:\n",
    "    def __init__(self, input_size: int, learning_rate = 1e-4, epochs = 1000):\n",
    "        self.weights = np.zeros(input_size + 1)\n",
    "        self.lr = learning_rate\n",
    "        self.epoch = epochs\n",
    "    \n",
    "    def activation(self, x):\n",
    "        return 0 if x < 0 else 1\n",
    "\n",
    "    def predict(self, inputs):\n",
    "        weighted_sum = np.dot(inputs, self.weights[1:]) + self.weights[0] \n",
    "        return self.activation(weighted_sum)\n",
    "\n",
    "    def fit(self, X, y):\n",
    "        for epoch in range(self.epoch):\n",
    "            for inputs, label in zip(X, y):\n",
    "                prediction = self.predict(inputs)\n",
    "                update = self.lr * (label - prediction)\n",
    "                self.weights[1:] += update * inputs  \n",
    "                self.weights[0] += update    "
   ]
  },
  {
   "cell_type": "code",
   "execution_count": 6,
   "metadata": {},
   "outputs": [
    {
     "name": "stdout",
     "output_type": "stream",
     "text": [
      "Input: [0 0], Predicted Output: 1\n",
      "Input: [0 1], Predicted Output: 1\n",
      "Input: [1 0], Predicted Output: 1\n",
      "Input: [1 1], Predicted Output: 0\n"
     ]
    }
   ],
   "source": [
    "# NAND Gate\n",
    "\n",
    "nandInputs = np.array([[0, 0], [0, 1], [1, 0], [1, 1]])\n",
    "nandLabels = np.array([1, 1, 1, 0])                      \n",
    "\n",
    "perceptronNand = Perceptron(input_size=2)\n",
    "perceptronNand.fit(nandInputs, nandLabels)\n",
    "\n",
    "for inputs in nandInputs:\n",
    "    print(f\"Input: {inputs}, Predicted Output: {perceptronNand.predict(inputs)}\")"
   ]
  },
  {
   "cell_type": "code",
   "execution_count": 7,
   "metadata": {},
   "outputs": [
    {
     "name": "stdout",
     "output_type": "stream",
     "text": [
      "Input: [0 0], Predicted Output: 1\n",
      "Input: [0 1], Predicted Output: 1\n",
      "Input: [1 0], Predicted Output: 0\n",
      "Input: [1 1], Predicted Output: 0\n"
     ]
    }
   ],
   "source": [
    "# XOR Gate\n",
    "\n",
    "xorInputs = np.array([[0, 0], [0, 1], [1, 0], [1, 1]])\n",
    "xorLabels = np.array([0, 1, 1, 0])\n",
    "\n",
    "perceptronXor = Perceptron(input_size=2)\n",
    "perceptronXor.fit(xorInputs, xorLabels)\n",
    "\n",
    "for inputs in nandInputs:\n",
    "    print(f\"Input: {inputs}, Predicted Output: {perceptronXor.predict(inputs)}\")"
   ]
  },
  {
   "cell_type": "code",
   "execution_count": null,
   "metadata": {},
   "outputs": [],
   "source": [
    "'''\n",
    "Explanation:\n",
    "NAND Gate:\n",
    "Linearly Separable: The perceptron can correctly classify inputs for a NAND gate because the problem is linearly separable. In simple terms, you can draw a straight line to separate the input values into their correct categories.\n",
    "\n",
    "XOR Gate:\n",
    "Non-Linearly Separable: The perceptron fails to classify an XOR gate correctly because the XOR function is not linearly separable. This means you can't draw a straight line to separate the input values into their correct categories.\n",
    "\n",
    "Limitations:\n",
    "Linearly Separable Problems: The perceptron algorithm works well for problems like NAND gates, which are linearly separable.\n",
    "\n",
    "Non-Linearly Separable Problems: For problems like XOR gates, which are not linearly separable, a single perceptron is not enough. You need more complex networks, such as multi-layer neural networks (often referred to as multi-layer perceptrons or MLPs), to solve these non-linear problems.\n",
    "'''"
   ]
  }
 ],
 "metadata": {
  "kernelspec": {
   "display_name": "Python 3",
   "language": "python",
   "name": "python3"
  },
  "language_info": {
   "codemirror_mode": {
    "name": "ipython",
    "version": 3
   },
   "file_extension": ".py",
   "mimetype": "text/x-python",
   "name": "python",
   "nbconvert_exporter": "python",
   "pygments_lexer": "ipython3",
   "version": "3.12.7"
  }
 },
 "nbformat": 4,
 "nbformat_minor": 2
}
